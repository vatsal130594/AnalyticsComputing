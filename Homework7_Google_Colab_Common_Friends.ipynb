{
  "nbformat": 4,
  "nbformat_minor": 0,
  "metadata": {
    "kernelspec": {
      "name": "python3",
      "display_name": "Python 3"
    },
    "colab": {
      "name": "Homework7_Google_Colab_Common_Friends.ipynb",
      "provenance": [],
      "collapsed_sections": []
    }
  },
  "cells": [
    {
      "cell_type": "code",
      "metadata": {
        "scrolled": true,
        "id": "Gbizw0OcBfis",
        "colab": {
          "base_uri": "https://localhost:8080/"
        },
        "outputId": "705f5d77-1e73-47e2-a866-8faf14fc6fae"
      },
      "source": [
        "#Install Java Runtime 8\n",
        "import os       #importing os to set environment variable\n",
        "!apt-get remove -y java*\n",
        "def install_java():\n",
        "  !apt-get install -y openjdk-8-jdk-headless -qq > /dev/null      #install openjdk\n",
        "  os.environ[\"JAVA_HOME\"] = \"/usr/lib/jvm/java-8-openjdk-amd64\"     #set environment variable\n",
        "  !java -version       #check java version\n",
        "install_java()"
      ],
      "execution_count": 2,
      "outputs": [
        {
          "output_type": "stream",
          "text": [
            "Reading package lists... Done\n",
            "Building dependency tree       \n",
            "Reading state information... Done\n",
            "Note, selecting 'java-propose-classpath' for glob 'java*'\n",
            "Note, selecting 'java2-sdk' for glob 'java*'\n",
            "Note, selecting 'java2html' for glob 'java*'\n",
            "Note, selecting 'java9-sdk-headless' for glob 'java*'\n",
            "Note, selecting 'java-gcj-compat' for glob 'java*'\n",
            "Note, selecting 'javascript-common' for glob 'java*'\n",
            "Note, selecting 'java11-runtime' for glob 'java*'\n",
            "Note, selecting 'javacc4' for glob 'java*'\n",
            "Note, selecting 'java3ds-fileloader' for glob 'java*'\n",
            "Note, selecting 'java10-runtime' for glob 'java*'\n",
            "Note, selecting 'javahelp2-doc' for glob 'java*'\n",
            "Note, selecting 'java-sdk-headless' for glob 'java*'\n",
            "Note, selecting 'java-sdk' for glob 'java*'\n",
            "Note, selecting 'java6-sdk-headless' for glob 'java*'\n",
            "Note, selecting 'java11-sdk' for glob 'java*'\n",
            "Note, selecting 'java10-sdk-headless' for glob 'java*'\n",
            "Note, selecting 'javalex' for glob 'java*'\n",
            "Note, selecting 'java-compiler' for glob 'java*'\n",
            "Note, selecting 'java1-runtime-headless' for glob 'java*'\n",
            "Note, selecting 'java-runtime' for glob 'java*'\n",
            "Note, selecting 'java9-sdk' for glob 'java*'\n",
            "Note, selecting 'java2-runtime' for glob 'java*'\n",
            "Note, selecting 'java10-runtime-headless' for glob 'java*'\n",
            "Note, selecting 'javamorph' for glob 'java*'\n",
            "Note, selecting 'java7-sdk' for glob 'java*'\n",
            "Note, selecting 'java1-runtime' for glob 'java*'\n",
            "Note, selecting 'java2-runtime-headless' for glob 'java*'\n",
            "Note, selecting 'javahelper' for glob 'java*'\n",
            "Note, selecting 'java5-runtime' for glob 'java*'\n",
            "Note, selecting 'java5-sdk' for glob 'java*'\n",
            "Note, selecting 'java11-runtime-headless' for glob 'java*'\n",
            "Note, selecting 'java7-sdk-headless' for glob 'java*'\n",
            "Note, selecting 'javacc4-doc' for glob 'java*'\n",
            "Note, selecting 'java7-runtime' for glob 'java*'\n",
            "Note, selecting 'java6-runtime' for glob 'java*'\n",
            "Note, selecting 'javacc' for glob 'java*'\n",
            "Note, selecting 'java-runtime-headless' for glob 'java*'\n",
            "Note, selecting 'java9-runtime' for glob 'java*'\n",
            "Note, selecting 'java5-runtime-headless' for glob 'java*'\n",
            "Note, selecting 'java8-runtime' for glob 'java*'\n",
            "Note, selecting 'java5-sdk-headless' for glob 'java*'\n",
            "Note, selecting 'java11-sdk-headless' for glob 'java*'\n",
            "Note, selecting 'java10-sdk' for glob 'java*'\n",
            "Note, selecting 'javahelp2' for glob 'java*'\n",
            "Note, selecting 'java6-runtime-headless' for glob 'java*'\n",
            "Note, selecting 'java8-sdk-headless' for glob 'java*'\n",
            "Note, selecting 'javacc-doc' for glob 'java*'\n",
            "Note, selecting 'java7-runtime-headless' for glob 'java*'\n",
            "Note, selecting 'java-package' for glob 'java*'\n",
            "Note, selecting 'java2-sdk-headless' for glob 'java*'\n",
            "Note, selecting 'java8-sdk' for glob 'java*'\n",
            "Note, selecting 'java8-runtime-headless' for glob 'java*'\n",
            "Note, selecting 'java-common' for glob 'java*'\n",
            "Note, selecting 'java6-sdk' for glob 'java*'\n",
            "Note, selecting 'java-wrappers' for glob 'java*'\n",
            "Note, selecting 'java-virtual-machine' for glob 'java*'\n",
            "Note, selecting 'java-policy' for glob 'java*'\n",
            "Note, selecting 'java9-runtime-headless' for glob 'java*'\n",
            "Package 'java1-runtime-headless' is not installed, so not removed\n",
            "Package 'java1-runtime' is not installed, so not removed\n",
            "Package 'javalex' is not installed, so not removed\n",
            "Package 'java-virtual-machine' is not installed, so not removed\n",
            "Package 'java-gcj-compat' is not installed, so not removed\n",
            "Package 'javascript-common' is not installed, so not removed\n",
            "Package 'java-policy' is not installed, so not removed\n",
            "Package 'java-wrappers' is not installed, so not removed\n",
            "Package 'java2html' is not installed, so not removed\n",
            "Package 'java3ds-fileloader' is not installed, so not removed\n",
            "Package 'javacc' is not installed, so not removed\n",
            "Package 'javacc-doc' is not installed, so not removed\n",
            "Package 'javacc4' is not installed, so not removed\n",
            "Package 'javacc4-doc' is not installed, so not removed\n",
            "Package 'javahelp2' is not installed, so not removed\n",
            "Package 'javahelp2-doc' is not installed, so not removed\n",
            "Package 'javamorph' is not installed, so not removed\n",
            "Package 'java-package' is not installed, so not removed\n",
            "Package 'java-propose-classpath' is not installed, so not removed\n",
            "Package 'javahelper' is not installed, so not removed\n",
            "The following packages were automatically installed and are no longer required:\n",
            "  cuda-command-line-tools-10-0 cuda-compiler-10-0 cuda-cuobjdump-10-0\n",
            "  cuda-cupti-10-0 cuda-demo-suite-10-0 cuda-demo-suite-10-1\n",
            "  cuda-documentation-10-0 cuda-documentation-10-1 cuda-drivers\n",
            "  cuda-drivers-455 cuda-gdb-10-0 cuda-gpu-library-advisor-10-0\n",
            "  cuda-libraries-10-0 cuda-memcheck-10-0 cuda-nsight-compute-10-0\n",
            "  cuda-nsight-compute-10-1 cuda-nsight-systems-10-1 cuda-nvcc-10-0\n",
            "  cuda-nvdisasm-10-0 cuda-nvml-dev-10-0 cuda-nvprof-10-0 cuda-nvprune-10-0\n",
            "  cuda-nvtx-10-0 cuda-runtime-10-0 cuda-runtime-10-1 cuda-samples-10-0\n",
            "  cuda-samples-10-1 dkms freeglut3 freeglut3-dev keyboard-configuration\n",
            "  libargon2-0 libcap2 libcryptsetup12 libdevmapper1.02.1 libfontenc1 libidn11\n",
            "  libip4tc0 libjansson4 libnvidia-decode-455 libnvidia-encode-455\n",
            "  libnvidia-extra-455 libnvidia-fbc1-455 libnvidia-ifr1-455 libpam-systemd\n",
            "  libpcsclite1 libpolkit-agent-1-0 libpolkit-backend-1-0 libpolkit-gobject-1-0\n",
            "  libxfont2 libxi-dev libxkbfile1 libxmu-dev libxmu-headers libxnvctrl0\n",
            "  libxtst6 nsight-compute-2020.2.1 nsight-systems-2020.3.4\n",
            "  nvidia-compute-utils-455 nvidia-dkms-455 nvidia-driver-455\n",
            "  nvidia-kernel-common-455 nvidia-kernel-source-455 nvidia-modprobe\n",
            "  nvidia-settings nvidia-utils-455 policykit-1 policykit-1-gnome python3-xkit\n",
            "  screen-resolution-extra systemd systemd-sysv udev x11-xkb-utils\n",
            "  xserver-common xserver-xorg-core-hwe-18.04 xserver-xorg-video-nvidia-455\n",
            "Use 'apt autoremove' to remove them.\n",
            "The following packages will be REMOVED:\n",
            "  ca-certificates-java java-common openjdk-8-jdk-headless\n",
            "  openjdk-8-jre-headless\n",
            "0 upgraded, 0 newly installed, 4 to remove and 14 not upgraded.\n",
            "After this operation, 143 MB disk space will be freed.\n",
            "(Reading database ... 138974 files and directories currently installed.)\n",
            "Removing openjdk-8-jdk-headless:amd64 (8u275-b01-0ubuntu1~18.04) ...\n",
            "Removing openjdk-8-jre-headless:amd64 (8u275-b01-0ubuntu1~18.04) ...\n",
            "Removing java-common (0.68ubuntu1~18.04.1) ...\n",
            "Removing ca-certificates-java (20180516ubuntu1~18.04.1) ...\n",
            "Processing triggers for ca-certificates (20201027ubuntu0.18.04.1) ...\n",
            "Updating certificates in /etc/ssl/certs...\n",
            "0 added, 0 removed; done.\n",
            "Running hooks in /etc/ca-certificates/update.d...\n",
            "\n",
            "updates of cacerts keystore disabled.\n",
            "done.\n",
            "Processing triggers for man-db (2.8.3-2ubuntu0.1) ...\n",
            "openjdk version \"1.8.0_275\"\n",
            "OpenJDK Runtime Environment (build 1.8.0_275-8u275-b01-0ubuntu1~18.04-b01)\n",
            "OpenJDK 64-Bit Server VM (build 25.275-b01, mixed mode)\n"
          ],
          "name": "stdout"
        }
      ]
    },
    {
      "cell_type": "code",
      "metadata": {
        "id": "-cm1g7UyFBRe",
        "colab": {
          "base_uri": "https://localhost:8080/",
          "height": 267
        },
        "outputId": "c49e591b-7d7f-40c9-a817-e79c22775d64"
      },
      "source": [
        "#Initialize Spark Runtime Environment\n",
        "!export JAVA_HOME=/usr/lib/jvm/java-8-openjdk-amd64/jre\n",
        "!pip install pyspark\n",
        "import pyspark\n",
        "from pyspark.sql import SparkSession\n",
        "import pandas as pd\n",
        "from pyspark.sql import SQLContext\n",
        "\n",
        "spark = SparkSession.builder \\\n",
        "   .master(\"local\") \\\n",
        "   .appName(\"Wordcount & Friends Tutorial\") \\\n",
        "   .config(\"spark.executor.memory\", \"2gb\") \\\n",
        "   .getOrCreate()\n",
        "   \n",
        "sc = spark.sparkContext\n",
        "sqlContext = SQLContext(sc)\n",
        "\n",
        "sc.version"
      ],
      "execution_count": 3,
      "outputs": [
        {
          "output_type": "stream",
          "text": [
            "Collecting pyspark\n",
            "\u001b[?25l  Downloading https://files.pythonhosted.org/packages/f0/26/198fc8c0b98580f617cb03cb298c6056587b8f0447e20fa40c5b634ced77/pyspark-3.0.1.tar.gz (204.2MB)\n",
            "\u001b[K     |████████████████████████████████| 204.2MB 78kB/s \n",
            "\u001b[?25hCollecting py4j==0.10.9\n",
            "\u001b[?25l  Downloading https://files.pythonhosted.org/packages/9e/b6/6a4fb90cd235dc8e265a6a2067f2a2c99f0d91787f06aca4bcf7c23f3f80/py4j-0.10.9-py2.py3-none-any.whl (198kB)\n",
            "\u001b[K     |████████████████████████████████| 204kB 53.8MB/s \n",
            "\u001b[?25hBuilding wheels for collected packages: pyspark\n",
            "  Building wheel for pyspark (setup.py) ... \u001b[?25l\u001b[?25hdone\n",
            "  Created wheel for pyspark: filename=pyspark-3.0.1-py2.py3-none-any.whl size=204612243 sha256=2e741d76b79d06e400b5078d9d31aafc09bad1977e5560ad3239d32655cfb110\n",
            "  Stored in directory: /root/.cache/pip/wheels/5e/bd/07/031766ca628adec8435bb40f0bd83bb676ce65ff4007f8e73f\n",
            "Successfully built pyspark\n",
            "Installing collected packages: py4j, pyspark\n",
            "Successfully installed py4j-0.10.9 pyspark-3.0.1\n"
          ],
          "name": "stdout"
        },
        {
          "output_type": "execute_result",
          "data": {
            "application/vnd.google.colaboratory.intrinsic+json": {
              "type": "string"
            },
            "text/plain": [
              "'3.0.1'"
            ]
          },
          "metadata": {
            "tags": []
          },
          "execution_count": 3
        }
      ]
    },
    {
      "cell_type": "markdown",
      "metadata": {
        "id": "yJS7s4JaBfiy"
      },
      "source": [
        "PART-2: \"COMMON FRIENDS\" EXAMPLE USINg MAPREDUCE"
      ]
    },
    {
      "cell_type": "code",
      "metadata": {
        "scrolled": true,
        "id": "MS4nn8uMBfiz",
        "colab": {
          "base_uri": "https://localhost:8080/"
        },
        "outputId": "12f75059-d916-49db-953e-22b4e9056e43"
      },
      "source": [
        "# Load data from github\n",
        "!wget \"https://raw.githubusercontent.com/ibarabasi/wordcount/master/friends\"\n",
        "rdd = sc.textFile(\"friends\")\n",
        "!cat friends"
      ],
      "execution_count": 4,
      "outputs": [
        {
          "output_type": "stream",
          "text": [
            "--2020-11-30 21:28:34--  https://raw.githubusercontent.com/ibarabasi/wordcount/master/friends\n",
            "Resolving raw.githubusercontent.com (raw.githubusercontent.com)... 151.101.0.133, 151.101.64.133, 151.101.128.133, ...\n",
            "Connecting to raw.githubusercontent.com (raw.githubusercontent.com)|151.101.0.133|:443... connected.\n",
            "HTTP request sent, awaiting response... 200 OK\n",
            "Length: 193 [text/plain]\n",
            "Saving to: ‘friends’\n",
            "\n",
            "friends             100%[===================>]     193  --.-KB/s    in 0s      \n",
            "\n",
            "2020-11-30 21:28:34 (12.3 MB/s) - ‘friends’ saved [193/193]\n",
            "\n",
            "me Alice\n",
            "Henry me\n",
            "Henry Alice\n",
            "me Jane\n",
            "Alice John\n",
            "Jane John\n",
            "Judy Alice\n",
            "me Mary\n",
            "Mary Joyce\n",
            "Joyce Henry\n",
            "Judy me\n",
            "Judy Jane\n",
            "John Carol\n",
            "Carol me\n",
            "Mary Henry\n",
            "Louise Ronald\n",
            "Ronald Thomas\n",
            "William Thomas\n"
          ],
          "name": "stdout"
        }
      ]
    },
    {
      "cell_type": "code",
      "metadata": {
        "id": "g3xYUMwgBfi1",
        "colab": {
          "base_uri": "https://localhost:8080/"
        },
        "outputId": "38f230d4-eb3b-4226-87c5-464dd7e55d27"
      },
      "source": [
        "\n",
        "# Print the RDD content\n",
        "rdd.take(20)"
      ],
      "execution_count": 5,
      "outputs": [
        {
          "output_type": "execute_result",
          "data": {
            "text/plain": [
              "['me Alice',\n",
              " 'Henry me',\n",
              " 'Henry Alice',\n",
              " 'me Jane',\n",
              " 'Alice John',\n",
              " 'Jane John',\n",
              " 'Judy Alice',\n",
              " 'me Mary',\n",
              " 'Mary Joyce',\n",
              " 'Joyce Henry',\n",
              " 'Judy me',\n",
              " 'Judy Jane',\n",
              " 'John Carol',\n",
              " 'Carol me',\n",
              " 'Mary Henry',\n",
              " 'Louise Ronald',\n",
              " 'Ronald Thomas',\n",
              " 'William Thomas']"
            ]
          },
          "metadata": {
            "tags": []
          },
          "execution_count": 5
        }
      ]
    },
    {
      "cell_type": "code",
      "metadata": {
        "id": "vHUSahn0Bfi3",
        "colab": {
          "base_uri": "https://localhost:8080/"
        },
        "outputId": "2eab39c9-fb05-49e4-e023-ec2f1c1222ec"
      },
      "source": [
        "word_counts = rdd.flatMap(lambda line: line.split()).map(lambda word: (word, 1)).reduceByKey(lambda a, b: (a + b)).map(lambda x:(x[1],x[0]))\n",
        "\n",
        "\n",
        "word_counts.take(30)\n"
      ],
      "execution_count": 10,
      "outputs": [
        {
          "output_type": "execute_result",
          "data": {
            "text/plain": [
              "[(6, 'me'),\n",
              " (4, 'Alice'),\n",
              " (4, 'Henry'),\n",
              " (3, 'Jane'),\n",
              " (3, 'John'),\n",
              " (3, 'Judy'),\n",
              " (3, 'Mary'),\n",
              " (2, 'Joyce'),\n",
              " (2, 'Carol'),\n",
              " (1, 'Louise'),\n",
              " (2, 'Ronald'),\n",
              " (2, 'Thomas'),\n",
              " (1, 'William')]"
            ]
          },
          "metadata": {
            "tags": []
          },
          "execution_count": 10
        }
      ]
    },
    {
      "cell_type": "code",
      "metadata": {
        "colab": {
          "base_uri": "https://localhost:8080/"
        },
        "id": "ak_DbfuuLhu-",
        "outputId": "40a6c57b-5410-466d-fb83-306560539e3a"
      },
      "source": [
        "rdd1=rdd.map(lambda x: x.split()).union(rdd.map(lambda x: x.split()[::-1]))\n",
        "# Bring my friend list to local\n",
        "lst = rdd1.filter(lambda x: x[0] == 'me').map(lambda x: x[1]).collect()\n",
        "# Build the second pair RDD\n",
        "rdd2 = rdd1.filter(lambda x: x[0] in lst).map(lambda x: x[1]). \\\n",
        "    filter(lambda x: x != 'me' and x not in lst). \\\n",
        "    map(lambda x: (x, 1)).reduceByKey(lambda a, b: a + b). \\\n",
        "    map(lambda x: (x[1], x[0])).sortByKey(ascending = False)\n",
        "# Bring the result to local since the sample is small\n",
        "for x, y in rdd2.collect():\n",
        "   print (\"The stranger {} has {} common friends with me\".format(y, x))"
      ],
      "execution_count": 11,
      "outputs": [
        {
          "output_type": "stream",
          "text": [
            "The stranger John has 3 common friends with me\n",
            "The stranger Joyce has 2 common friends with me\n"
          ],
          "name": "stdout"
        }
      ]
    }
  ]
}